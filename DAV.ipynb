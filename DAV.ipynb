{
  "nbformat": 4,
  "nbformat_minor": 0,
  "metadata": {
    "colab": {
      "provenance": []
    },
    "kernelspec": {
      "name": "python3",
      "display_name": "Python 3"
    },
    "language_info": {
      "name": "python"
    }
  },
  "cells": [
    {
      "cell_type": "code",
      "execution_count": null,
      "metadata": {
        "id": "gCdk-3MoVmDj"
      },
      "outputs": [],
      "source": []
    },
    {
      "cell_type": "code",
      "source": [
        "import pandas as pd\n",
        "\n",
        "my_list = [1, \"hello\", 3.14, True]\n",
        "print(f\"List: {my_list}\")\n",
        "\n",
        "my_tuple = (10, \"world\", False)\n",
        "print(f\"Tuple: {my_tuple}\")\n",
        "\n",
        "my_dictionary = {\n",
        "    \"name\": \"shaheed\",\n",
        "    \"age\": 20,\n",
        "    \"city\": \"Warangal\"\n",
        "}\n",
        "print(f\"Dictionary: {my_dictionary}\")\n",
        "\n",
        "data = {\n",
        "    'Name': ['Luqman', 'Kiran', 'Sathish', 'Bunny'],\n",
        "    'Age': [25, 30, 35, 28],\n",
        "    'City': ['Karimnagar', 'Hyderabad', 'Husnabad', 'Adilabad']\n",
        "}\n",
        "my_dataframe = pd.DataFrame(data)\n",
        "print(\"\\nDataFrame:\")\n",
        "print(my_dataframe)"
      ],
      "metadata": {
        "colab": {
          "base_uri": "https://localhost:8080/"
        },
        "id": "iydVLdDxW2Ow",
        "outputId": "c9543dff-e9b5-4446-db79-a182bd6f5e4c"
      },
      "execution_count": 1,
      "outputs": [
        {
          "output_type": "stream",
          "name": "stdout",
          "text": [
            "List: [1, 'hello', 3.14, True]\n",
            "Tuple: (10, 'world', False)\n",
            "Dictionary: {'name': 'shaheed', 'age': 20, 'city': 'Warangal'}\n",
            "\n",
            "DataFrame:\n",
            "      Name  Age        City\n",
            "0   Luqman   25  Karimnagar\n",
            "1    Kiran   30   Hyderabad\n",
            "2  Sathish   35    Husnabad\n",
            "3    Bunny   28    Adilabad\n"
          ]
        }
      ]
    }
  ]
}
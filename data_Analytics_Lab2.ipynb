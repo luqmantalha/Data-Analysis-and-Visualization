{
  "nbformat": 4,
  "nbformat_minor": 0,
  "metadata": {
    "colab": {
      "provenance": [],
      "authorship_tag": "ABX9TyNzDBTW9Q1AkdppVj3aYFs1",
      "include_colab_link": true
    },
    "kernelspec": {
      "name": "python3",
      "display_name": "Python 3"
    },
    "language_info": {
      "name": "python"
    }
  },
  "cells": [
    {
      "cell_type": "markdown",
      "metadata": {
        "id": "view-in-github",
        "colab_type": "text"
      },
      "source": [
        "<a href=\"https://colab.research.google.com/github/luqmantalha/Data-Analysis-and-Visualization/blob/main/data_Analytics_Lab2.ipynb\" target=\"_parent\"><img src=\"https://colab.research.google.com/assets/colab-badge.svg\" alt=\"Open In Colab\"/></a>"
      ]
    },
    {
      "cell_type": "code",
      "execution_count": 2,
      "metadata": {
        "colab": {
          "base_uri": "https://localhost:8080/"
        },
        "id": "5N9Hb18zTKqa",
        "outputId": "10c1b375-67a3-467f-ff8c-13ba50c440bf"
      },
      "outputs": [
        {
          "output_type": "stream",
          "name": "stdout",
          "text": [
            "   patientid   age     bp\n",
            "0          1  25.0  120.0\n",
            "1          2  30.0    NaN\n",
            "2          3   NaN  110.0\n",
            "3          4  40.0  140.0\n",
            "4          5  50.0    NaN\n"
          ]
        }
      ],
      "source": [
        "import pandas as pd\n",
        "data = {'patientid':[1,2,3,4,5],\n",
        "        'age':[25,30,None,40,50],\n",
        "        'bp':[120,None,110,140,None]}\n",
        "df=pd.DataFrame(data)\n",
        "print(df)"
      ]
    },
    {
      "cell_type": "code",
      "source": [
        "df['age'].fillna(df['age'].mean(),inplace=True)\n",
        "print(df)"
      ],
      "metadata": {
        "colab": {
          "base_uri": "https://localhost:8080/"
        },
        "id": "Nl-t4MpEV20m",
        "outputId": "6e10cc50-2265-4a97-ed4f-58be1a3ce42b"
      },
      "execution_count": 4,
      "outputs": [
        {
          "output_type": "stream",
          "name": "stdout",
          "text": [
            "   patientid    age     bp\n",
            "0          1  25.00  120.0\n",
            "1          2  30.00    NaN\n",
            "2          3  36.25  110.0\n",
            "3          4  40.00  140.0\n",
            "4          5  50.00    NaN\n"
          ]
        },
        {
          "output_type": "stream",
          "name": "stderr",
          "text": [
            "/tmp/ipython-input-2644800082.py:1: FutureWarning: A value is trying to be set on a copy of a DataFrame or Series through chained assignment using an inplace method.\n",
            "The behavior will change in pandas 3.0. This inplace method will never work because the intermediate object on which we are setting values always behaves as a copy.\n",
            "\n",
            "For example, when doing 'df[col].method(value, inplace=True)', try using 'df.method({col: value}, inplace=True)' or df[col] = df[col].method(value) instead, to perform the operation inplace on the original object.\n",
            "\n",
            "\n",
            "  df['age'].fillna(df['age'].mean(),inplace=True)\n"
          ]
        }
      ]
    },
    {
      "cell_type": "code",
      "source": [
        "df['age'].fillna(df['age'].mode(),inplace=True)\n",
        "print(df)"
      ],
      "metadata": {
        "id": "z5Ist0i_XK_o"
      },
      "execution_count": null,
      "outputs": []
    },
    {
      "cell_type": "code",
      "source": [
        "import pandas as pd\n",
        "data = {'bp':[120,None,None,150,160]}\n",
        "df=pd.DataFrame(data)\n",
        "df['bp'].fillna(method='ffill',inplace=True)\n",
        "print(df)"
      ],
      "metadata": {
        "colab": {
          "base_uri": "https://localhost:8080/"
        },
        "id": "oiw4eulAXjE1",
        "outputId": "cf477ce1-c234-47ab-852b-f430bec486e9"
      },
      "execution_count": 5,
      "outputs": [
        {
          "output_type": "stream",
          "name": "stdout",
          "text": [
            "      bp\n",
            "0  120.0\n",
            "1  120.0\n",
            "2  120.0\n",
            "3  150.0\n",
            "4  160.0\n"
          ]
        },
        {
          "output_type": "stream",
          "name": "stderr",
          "text": [
            "/tmp/ipython-input-1868175238.py:4: FutureWarning: A value is trying to be set on a copy of a DataFrame or Series through chained assignment using an inplace method.\n",
            "The behavior will change in pandas 3.0. This inplace method will never work because the intermediate object on which we are setting values always behaves as a copy.\n",
            "\n",
            "For example, when doing 'df[col].method(value, inplace=True)', try using 'df.method({col: value}, inplace=True)' or df[col] = df[col].method(value) instead, to perform the operation inplace on the original object.\n",
            "\n",
            "\n",
            "  df['bp'].fillna(method='ffill',inplace=True)\n",
            "/tmp/ipython-input-1868175238.py:4: FutureWarning: Series.fillna with 'method' is deprecated and will raise in a future version. Use obj.ffill() or obj.bfill() instead.\n",
            "  df['bp'].fillna(method='ffill',inplace=True)\n"
          ]
        }
      ]
    },
    {
      "cell_type": "code",
      "source": [
        "import pandas as pd\n",
        "sales = pd.DataFrame({\n",
        "    'OrderID':[1,2,3,4,],\n",
        "    'Product':['mobile','laptop','tablet','mobole',],\n",
        "    'Amount':[20000,50000,20000,15000,]})\n",
        "print(sales.duplicated())\n",
        "sales_df = sales.drop_duplicates()\n",
        "print(sales)"
      ],
      "metadata": {
        "colab": {
          "base_uri": "https://localhost:8080/"
        },
        "id": "OD0IhfM7aXwY",
        "outputId": "ca17e98a-f383-4c1d-b130-28e22584eaa0"
      },
      "execution_count": 10,
      "outputs": [
        {
          "output_type": "stream",
          "name": "stdout",
          "text": [
            "0    False\n",
            "1    False\n",
            "2    False\n",
            "3    False\n",
            "dtype: bool\n",
            "   OrderID Product  Amount\n",
            "0        1  mobile   20000\n",
            "1        2  laptop   50000\n",
            "2        3  tablet   20000\n",
            "3        4  mobole   15000\n"
          ]
        }
      ]
    },
    {
      "cell_type": "code",
      "source": [
        "import pandas as pd\n",
        "data2 = {'patientid':[1,2,3,4,5,4],\n",
        "        'age':[25,30,50,40,50,40],\n",
        "        'bp':[120,110,110,140,90,130]}\n",
        "patient_df = pd.DataFrame(data2)\n",
        "print(patient_df.duplicated())\n",
        "df2=patient_df.drop_duplicates()\n",
        "print(df2)"
      ],
      "metadata": {
        "colab": {
          "base_uri": "https://localhost:8080/"
        },
        "id": "0n08nOdWev_u",
        "outputId": "719df875-db9e-40d3-b65a-6ea602a09c32"
      },
      "execution_count": 14,
      "outputs": [
        {
          "output_type": "stream",
          "name": "stdout",
          "text": [
            "0    False\n",
            "1    False\n",
            "2    False\n",
            "3    False\n",
            "4    False\n",
            "5    False\n",
            "dtype: bool\n",
            "   patientid  age   bp\n",
            "0          1   25  120\n",
            "1          2   30  110\n",
            "2          3   50  110\n",
            "3          4   40  140\n",
            "4          5   50   90\n",
            "5          4   40  130\n"
          ]
        }
      ]
    }
  ]
}